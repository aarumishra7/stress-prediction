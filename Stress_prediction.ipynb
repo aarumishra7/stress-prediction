{
  "cells": [
    {
      "cell_type": "code",
      "execution_count": null,
      "id": "8b8b589b",
      "metadata": {
        "id": "8b8b589b"
      },
      "outputs": [],
      "source": [
        "import pandas as pd\n",
        "import matplotlib.pyplot as plt\n",
        "from nltk.tokenize import word_tokenize\n",
        "from nltk.corpus import stopwords\n",
        "from nltk.stem import WordNetLemmatizer"
      ]
    },
    {
      "cell_type": "code",
      "source": [
        "data=pd.read_csv('/content/Stress.csv')"
      ],
      "metadata": {
        "id": "nBIe2CvCBqQV"
      },
      "id": "nBIe2CvCBqQV",
      "execution_count": null,
      "outputs": []
    },
    {
      "cell_type": "code",
      "source": [
        "data.iloc[:5]"
      ],
      "metadata": {
        "colab": {
          "base_uri": "https://localhost:8080/",
          "height": 206
        },
        "id": "ZqfYMemyBqTC",
        "outputId": "4f014150-8072-4506-e122-263c346d3442"
      },
      "id": "ZqfYMemyBqTC",
      "execution_count": null,
      "outputs": [
        {
          "output_type": "execute_result",
          "data": {
            "text/plain": [
              "          subreddit post_id sentence_range  \\\n",
              "0              ptsd  8601tu       (15, 20)   \n",
              "1        assistance  8lbrx9         (0, 5)   \n",
              "2              ptsd  9ch1zh       (15, 20)   \n",
              "3     relationships  7rorpp        [5, 10]   \n",
              "4  survivorsofabuse  9p2gbc         [0, 5]   \n",
              "\n",
              "                                                text  label  confidence  \\\n",
              "0  He said he had not felt that way before, sugge...      1         0.8   \n",
              "1  Hey there r/assistance, Not sure if this is th...      0         1.0   \n",
              "2  My mom then hit me with the newspaper and it s...      1         0.8   \n",
              "3  until i met my new boyfriend, he is amazing, h...      1         0.6   \n",
              "4  October is Domestic Violence Awareness Month a...      1         0.8   \n",
              "\n",
              "   social_timestamp  \n",
              "0        1521614353  \n",
              "1        1527009817  \n",
              "2        1535935605  \n",
              "3        1516429555  \n",
              "4        1539809005  "
            ],
            "text/html": [
              "\n",
              "  <div id=\"df-8bea90ec-4b94-4926-aaf4-090afd7a231a\" class=\"colab-df-container\">\n",
              "    <div>\n",
              "<style scoped>\n",
              "    .dataframe tbody tr th:only-of-type {\n",
              "        vertical-align: middle;\n",
              "    }\n",
              "\n",
              "    .dataframe tbody tr th {\n",
              "        vertical-align: top;\n",
              "    }\n",
              "\n",
              "    .dataframe thead th {\n",
              "        text-align: right;\n",
              "    }\n",
              "</style>\n",
              "<table border=\"1\" class=\"dataframe\">\n",
              "  <thead>\n",
              "    <tr style=\"text-align: right;\">\n",
              "      <th></th>\n",
              "      <th>subreddit</th>\n",
              "      <th>post_id</th>\n",
              "      <th>sentence_range</th>\n",
              "      <th>text</th>\n",
              "      <th>label</th>\n",
              "      <th>confidence</th>\n",
              "      <th>social_timestamp</th>\n",
              "    </tr>\n",
              "  </thead>\n",
              "  <tbody>\n",
              "    <tr>\n",
              "      <th>0</th>\n",
              "      <td>ptsd</td>\n",
              "      <td>8601tu</td>\n",
              "      <td>(15, 20)</td>\n",
              "      <td>He said he had not felt that way before, sugge...</td>\n",
              "      <td>1</td>\n",
              "      <td>0.8</td>\n",
              "      <td>1521614353</td>\n",
              "    </tr>\n",
              "    <tr>\n",
              "      <th>1</th>\n",
              "      <td>assistance</td>\n",
              "      <td>8lbrx9</td>\n",
              "      <td>(0, 5)</td>\n",
              "      <td>Hey there r/assistance, Not sure if this is th...</td>\n",
              "      <td>0</td>\n",
              "      <td>1.0</td>\n",
              "      <td>1527009817</td>\n",
              "    </tr>\n",
              "    <tr>\n",
              "      <th>2</th>\n",
              "      <td>ptsd</td>\n",
              "      <td>9ch1zh</td>\n",
              "      <td>(15, 20)</td>\n",
              "      <td>My mom then hit me with the newspaper and it s...</td>\n",
              "      <td>1</td>\n",
              "      <td>0.8</td>\n",
              "      <td>1535935605</td>\n",
              "    </tr>\n",
              "    <tr>\n",
              "      <th>3</th>\n",
              "      <td>relationships</td>\n",
              "      <td>7rorpp</td>\n",
              "      <td>[5, 10]</td>\n",
              "      <td>until i met my new boyfriend, he is amazing, h...</td>\n",
              "      <td>1</td>\n",
              "      <td>0.6</td>\n",
              "      <td>1516429555</td>\n",
              "    </tr>\n",
              "    <tr>\n",
              "      <th>4</th>\n",
              "      <td>survivorsofabuse</td>\n",
              "      <td>9p2gbc</td>\n",
              "      <td>[0, 5]</td>\n",
              "      <td>October is Domestic Violence Awareness Month a...</td>\n",
              "      <td>1</td>\n",
              "      <td>0.8</td>\n",
              "      <td>1539809005</td>\n",
              "    </tr>\n",
              "  </tbody>\n",
              "</table>\n",
              "</div>\n",
              "    <div class=\"colab-df-buttons\">\n",
              "\n",
              "  <div class=\"colab-df-container\">\n",
              "    <button class=\"colab-df-convert\" onclick=\"convertToInteractive('df-8bea90ec-4b94-4926-aaf4-090afd7a231a')\"\n",
              "            title=\"Convert this dataframe to an interactive table.\"\n",
              "            style=\"display:none;\">\n",
              "\n",
              "  <svg xmlns=\"http://www.w3.org/2000/svg\" height=\"24px\" viewBox=\"0 -960 960 960\">\n",
              "    <path d=\"M120-120v-720h720v720H120Zm60-500h600v-160H180v160Zm220 220h160v-160H400v160Zm0 220h160v-160H400v160ZM180-400h160v-160H180v160Zm440 0h160v-160H620v160ZM180-180h160v-160H180v160Zm440 0h160v-160H620v160Z\"/>\n",
              "  </svg>\n",
              "    </button>\n",
              "\n",
              "  <style>\n",
              "    .colab-df-container {\n",
              "      display:flex;\n",
              "      gap: 12px;\n",
              "    }\n",
              "\n",
              "    .colab-df-convert {\n",
              "      background-color: #E8F0FE;\n",
              "      border: none;\n",
              "      border-radius: 50%;\n",
              "      cursor: pointer;\n",
              "      display: none;\n",
              "      fill: #1967D2;\n",
              "      height: 32px;\n",
              "      padding: 0 0 0 0;\n",
              "      width: 32px;\n",
              "    }\n",
              "\n",
              "    .colab-df-convert:hover {\n",
              "      background-color: #E2EBFA;\n",
              "      box-shadow: 0px 1px 2px rgba(60, 64, 67, 0.3), 0px 1px 3px 1px rgba(60, 64, 67, 0.15);\n",
              "      fill: #174EA6;\n",
              "    }\n",
              "\n",
              "    .colab-df-buttons div {\n",
              "      margin-bottom: 4px;\n",
              "    }\n",
              "\n",
              "    [theme=dark] .colab-df-convert {\n",
              "      background-color: #3B4455;\n",
              "      fill: #D2E3FC;\n",
              "    }\n",
              "\n",
              "    [theme=dark] .colab-df-convert:hover {\n",
              "      background-color: #434B5C;\n",
              "      box-shadow: 0px 1px 3px 1px rgba(0, 0, 0, 0.15);\n",
              "      filter: drop-shadow(0px 1px 2px rgba(0, 0, 0, 0.3));\n",
              "      fill: #FFFFFF;\n",
              "    }\n",
              "  </style>\n",
              "\n",
              "    <script>\n",
              "      const buttonEl =\n",
              "        document.querySelector('#df-8bea90ec-4b94-4926-aaf4-090afd7a231a button.colab-df-convert');\n",
              "      buttonEl.style.display =\n",
              "        google.colab.kernel.accessAllowed ? 'block' : 'none';\n",
              "\n",
              "      async function convertToInteractive(key) {\n",
              "        const element = document.querySelector('#df-8bea90ec-4b94-4926-aaf4-090afd7a231a');\n",
              "        const dataTable =\n",
              "          await google.colab.kernel.invokeFunction('convertToInteractive',\n",
              "                                                    [key], {});\n",
              "        if (!dataTable) return;\n",
              "\n",
              "        const docLinkHtml = 'Like what you see? Visit the ' +\n",
              "          '<a target=\"_blank\" href=https://colab.research.google.com/notebooks/data_table.ipynb>data table notebook</a>'\n",
              "          + ' to learn more about interactive tables.';\n",
              "        element.innerHTML = '';\n",
              "        dataTable['output_type'] = 'display_data';\n",
              "        await google.colab.output.renderOutput(dataTable, element);\n",
              "        const docLink = document.createElement('div');\n",
              "        docLink.innerHTML = docLinkHtml;\n",
              "        element.appendChild(docLink);\n",
              "      }\n",
              "    </script>\n",
              "  </div>\n",
              "\n",
              "\n",
              "<div id=\"df-ba29c691-efc9-4618-927f-cd047f76a81e\">\n",
              "  <button class=\"colab-df-quickchart\" onclick=\"quickchart('df-ba29c691-efc9-4618-927f-cd047f76a81e')\"\n",
              "            title=\"Suggest charts\"\n",
              "            style=\"display:none;\">\n",
              "\n",
              "<svg xmlns=\"http://www.w3.org/2000/svg\" height=\"24px\"viewBox=\"0 0 24 24\"\n",
              "     width=\"24px\">\n",
              "    <g>\n",
              "        <path d=\"M19 3H5c-1.1 0-2 .9-2 2v14c0 1.1.9 2 2 2h14c1.1 0 2-.9 2-2V5c0-1.1-.9-2-2-2zM9 17H7v-7h2v7zm4 0h-2V7h2v10zm4 0h-2v-4h2v4z\"/>\n",
              "    </g>\n",
              "</svg>\n",
              "  </button>\n",
              "\n",
              "<style>\n",
              "  .colab-df-quickchart {\n",
              "      --bg-color: #E8F0FE;\n",
              "      --fill-color: #1967D2;\n",
              "      --hover-bg-color: #E2EBFA;\n",
              "      --hover-fill-color: #174EA6;\n",
              "      --disabled-fill-color: #AAA;\n",
              "      --disabled-bg-color: #DDD;\n",
              "  }\n",
              "\n",
              "  [theme=dark] .colab-df-quickchart {\n",
              "      --bg-color: #3B4455;\n",
              "      --fill-color: #D2E3FC;\n",
              "      --hover-bg-color: #434B5C;\n",
              "      --hover-fill-color: #FFFFFF;\n",
              "      --disabled-bg-color: #3B4455;\n",
              "      --disabled-fill-color: #666;\n",
              "  }\n",
              "\n",
              "  .colab-df-quickchart {\n",
              "    background-color: var(--bg-color);\n",
              "    border: none;\n",
              "    border-radius: 50%;\n",
              "    cursor: pointer;\n",
              "    display: none;\n",
              "    fill: var(--fill-color);\n",
              "    height: 32px;\n",
              "    padding: 0;\n",
              "    width: 32px;\n",
              "  }\n",
              "\n",
              "  .colab-df-quickchart:hover {\n",
              "    background-color: var(--hover-bg-color);\n",
              "    box-shadow: 0 1px 2px rgba(60, 64, 67, 0.3), 0 1px 3px 1px rgba(60, 64, 67, 0.15);\n",
              "    fill: var(--button-hover-fill-color);\n",
              "  }\n",
              "\n",
              "  .colab-df-quickchart-complete:disabled,\n",
              "  .colab-df-quickchart-complete:disabled:hover {\n",
              "    background-color: var(--disabled-bg-color);\n",
              "    fill: var(--disabled-fill-color);\n",
              "    box-shadow: none;\n",
              "  }\n",
              "\n",
              "  .colab-df-spinner {\n",
              "    border: 2px solid var(--fill-color);\n",
              "    border-color: transparent;\n",
              "    border-bottom-color: var(--fill-color);\n",
              "    animation:\n",
              "      spin 1s steps(1) infinite;\n",
              "  }\n",
              "\n",
              "  @keyframes spin {\n",
              "    0% {\n",
              "      border-color: transparent;\n",
              "      border-bottom-color: var(--fill-color);\n",
              "      border-left-color: var(--fill-color);\n",
              "    }\n",
              "    20% {\n",
              "      border-color: transparent;\n",
              "      border-left-color: var(--fill-color);\n",
              "      border-top-color: var(--fill-color);\n",
              "    }\n",
              "    30% {\n",
              "      border-color: transparent;\n",
              "      border-left-color: var(--fill-color);\n",
              "      border-top-color: var(--fill-color);\n",
              "      border-right-color: var(--fill-color);\n",
              "    }\n",
              "    40% {\n",
              "      border-color: transparent;\n",
              "      border-right-color: var(--fill-color);\n",
              "      border-top-color: var(--fill-color);\n",
              "    }\n",
              "    60% {\n",
              "      border-color: transparent;\n",
              "      border-right-color: var(--fill-color);\n",
              "    }\n",
              "    80% {\n",
              "      border-color: transparent;\n",
              "      border-right-color: var(--fill-color);\n",
              "      border-bottom-color: var(--fill-color);\n",
              "    }\n",
              "    90% {\n",
              "      border-color: transparent;\n",
              "      border-bottom-color: var(--fill-color);\n",
              "    }\n",
              "  }\n",
              "</style>\n",
              "\n",
              "  <script>\n",
              "    async function quickchart(key) {\n",
              "      const quickchartButtonEl =\n",
              "        document.querySelector('#' + key + ' button');\n",
              "      quickchartButtonEl.disabled = true;  // To prevent multiple clicks.\n",
              "      quickchartButtonEl.classList.add('colab-df-spinner');\n",
              "      try {\n",
              "        const charts = await google.colab.kernel.invokeFunction(\n",
              "            'suggestCharts', [key], {});\n",
              "      } catch (error) {\n",
              "        console.error('Error during call to suggestCharts:', error);\n",
              "      }\n",
              "      quickchartButtonEl.classList.remove('colab-df-spinner');\n",
              "      quickchartButtonEl.classList.add('colab-df-quickchart-complete');\n",
              "    }\n",
              "    (() => {\n",
              "      let quickchartButtonEl =\n",
              "        document.querySelector('#df-ba29c691-efc9-4618-927f-cd047f76a81e button');\n",
              "      quickchartButtonEl.style.display =\n",
              "        google.colab.kernel.accessAllowed ? 'block' : 'none';\n",
              "    })();\n",
              "  </script>\n",
              "</div>\n",
              "\n",
              "    </div>\n",
              "  </div>\n"
            ]
          },
          "metadata": {},
          "execution_count": 3
        }
      ]
    },
    {
      "cell_type": "code",
      "source": [
        "data.iloc[0]['text']"
      ],
      "metadata": {
        "colab": {
          "base_uri": "https://localhost:8080/",
          "height": 105
        },
        "id": "JGlrbUlLBqVn",
        "outputId": "a447e923-026f-4049-eda7-a05eff85b292"
      },
      "id": "JGlrbUlLBqVn",
      "execution_count": null,
      "outputs": [
        {
          "output_type": "execute_result",
          "data": {
            "text/plain": [
              "'He said he had not felt that way before, suggeted I go rest and so ..TRIGGER AHEAD IF YOUI\\'RE A HYPOCONDRIAC LIKE ME: i decide to look up \"feelings of doom\" in hopes of maybe getting sucked into some rabbit hole of ludicrous conspiracy, a stupid \"are you psychic\" test or new age b.s., something I could even laugh at down the road. No, I ended up reading that this sense of doom can be indicative of various health ailments; one of which I am prone to.. So on top of my \"doom\" to my gloom..I am now f\\'n worried about my heart. I do happen to have a physical in 48 hours.'"
            ],
            "application/vnd.google.colaboratory.intrinsic+json": {
              "type": "string"
            }
          },
          "metadata": {},
          "execution_count": 4
        }
      ]
    },
    {
      "cell_type": "code",
      "source": [
        "ax=(data['label'].value_counts(normalize=True)*100).sort_values().plot(kind='barh',figsize=(16,6),title='Target Distribution')\n",
        "for a in ax.containers:\n",
        "    plt.bar_label(a,fmt='%.2f%%')\n",
        "plt.show()"
      ],
      "metadata": {
        "colab": {
          "base_uri": "https://localhost:8080/",
          "height": 477
        },
        "id": "DF8xDB25BqYc",
        "outputId": "1126c1f8-734b-4465-90cd-42b0362fab9b"
      },
      "id": "DF8xDB25BqYc",
      "execution_count": null,
      "outputs": [
        {
          "output_type": "display_data",
          "data": {
            "text/plain": [
              "<Figure size 1600x600 with 1 Axes>"
            ],
            "image/png": "[encoded data removed]"
          },
          "metadata": {}
        }
      ]
    },
    {
      "cell_type": "code",
      "source": [
        "def show(df):\n",
        "    for index,content in enumerate(df):\n",
        "        if index <= 5:\n",
        "            print(content)\n",
        "        else:\n",
        "            break"
      ],
      "metadata": {
        "id": "xoGWCo7ZBqc-"
      },
      "id": "xoGWCo7ZBqc-",
      "execution_count": null,
      "outputs": []
    },
    {
      "cell_type": "code",
      "source": [
        "import re\n",
        "import string\n",
        "\n",
        "def wordopt(text):\n",
        "    text = text.lower()\n",
        "    text = re.sub('\\[.*?\\]', '', text)\n",
        "    text = re.sub(\"\\\\W\",\" \",text)\n",
        "    text = re.sub('https?://\\S+|www\\.\\S+', '', text)\n",
        "    text = re.sub('<.*?>+', '', text)\n",
        "    text = re.sub('[%s]' % re.escape(string.punctuation), '', text)\n",
        "    text = re.sub('\\n', '', text)\n",
        "    text = re.sub('\\w*\\d\\w*', '', text)\n",
        "    return text\n"
      ],
      "metadata": {
        "id": "ymeAUMt9Bqf0"
      },
      "id": "ymeAUMt9Bqf0",
      "execution_count": null,
      "outputs": []
    },
    {
      "cell_type": "code",
      "source": [
        "data['text']=data['text'].apply(wordopt)\n",
        "show(data['text'])"
      ],
      "metadata": {
        "colab": {
          "base_uri": "https://localhost:8080/"
        },
        "id": "oqpumBR6Bqih",
        "outputId": "3f3859b5-dec8-4d20-fbac-a3634de1721f"
      },
      "id": "oqpumBR6Bqih",
      "execution_count": null,
      "outputs": [
        {
          "output_type": "stream",
          "name": "stdout",
          "text": [
            "he said he had not felt that way before  suggeted i go rest and so   trigger ahead if youi re a hypocondriac like me  i decide to look up  feelings of doom  in hopes of maybe getting sucked into some rabbit hole of ludicrous conspiracy  a stupid  are you psychic  test or new age b s   something i could even laugh at down the road  no  i ended up reading that this sense of doom can be indicative of various health ailments  one of which i am prone to   so on top of my  doom  to my gloom  i am now f n worried about my heart  i do happen to have a physical in  hours \n",
            "hey there r assistance  not sure if this is the right place to post this   but here goes    i m currently a student intern at sandia national labs and working on a survey to help improve our marketing outreach efforts at the many schools we recruit at around the country  we re looking for current undergrad grad stem students so if you re a stem student or know stem students  i would greatly appreciate if you can help take or pass along this short survey  as a thank you  everyone who helps take the survey will be entered in to a drawing for chance to win one of three   amazon gcs \n",
            "my mom then hit me with the newspaper and it shocked me that she would do this  she knows i don t like play hitting  smacking  striking  hitting or violence of any sort on my person  do i send out this vibe asking for it from the universe  then yesterday i decided to take my friend to go help another  friend  move to a new place  while we were driving the friend we are moving strikes me on my shoulder  and i address it immediately because this is the  time i have told him not to do these things  then my other friend who is driving nearly gets into an collision with another car i think because he was high on marijuana and the friend we are moving in the backseat is like  you have to understand i was just trying to get your attention  you know the thing  year olds do to get peoples attention by smacking them  this guy is in his  s \n",
            "until i met my new boyfriend  he is amazing  he is kind  he is sweet  he is a good student  he likes the same things as me  my family likes him  and so on    but i dont feel that passion that rush i felt with my ex  the truth is that when i started going out with my boyfriend i secretly saw my ex a few times to see if i really didnt feel nothing for him  but it was disgusting  i didnt even want him to touch me  i feel bad with myself i didnt want him  but still  i was there  then i kinda realized i felt nothing love related for him and it was ok  he was hurt when he knew i was dating this boy and he even begged me to stay but of course not  but now the problem is that when im with my boyfriend i dont feel like i love him  like that thing you kinda have to feel with a new love  i just feel  ok  with him  and i catch myself thinking about my ex from time to time  remembering all the good things we had and it drives me crazy because i know that if i see him again i wont feel that way  that  love  that my mind makes me think stills there  and recently i found out that he has a girl and he is actually enjoying the experience and i got so mad and so hurt  i know i dont have any right to feel that way  i felt betrayed and i still feel that way  i gross myself out \n",
            "october is domestic violence awareness month and i am a domestic violence survivor who is still struggling  even after over four years  lately i have been feeling very angry  angry that my abusive ex received no real consequences for his actions  this man abused me in all manners  physically  sexually  emotionally  verbally  financially  etc  i was granted a restraining order against him  and it was renewed a year later  but i was unable to press criminal charges against him because i didn t have enough evidence to have a case \n",
            "i think he doesn t want to put in the effort for the relationship to work  and we re both so difficult that we have to work on our relationships  doesn t matter with whom  but he can t be without me either  what should i do  i m afraid this is gonna happen over and over again  because i m always forgiving him at some point  am i being strung along  tl dr  boyfriend  broke up with me  after on off for   years  i thought we just got it together and am devastated   don t know what to do  want to keep fighting but should i \n"
          ]
        }
      ]
    },
    {
      "cell_type": "code",
      "source": [
        "import nltk\n",
        "nltk.download('punkt')"
      ],
      "metadata": {
        "colab": {
          "base_uri": "https://localhost:8080/"
        },
        "id": "NdhdpeP3CbH0",
        "outputId": "e256aaff-780b-4168-a11c-ff47e49a0048"
      },
      "id": "NdhdpeP3CbH0",
      "execution_count": null,
      "outputs": [
        {
          "output_type": "stream",
          "name": "stderr",
          "text": [
            "[nltk_data] Downloading package punkt to /root/nltk_data...\n",
            "[nltk_data]   Unzipping tokenizers/punkt.zip.\n"
          ]
        },
        {
          "output_type": "execute_result",
          "data": {
            "text/plain": [
              "True"
            ]
          },
          "metadata": {},
          "execution_count": 9
        }
      ]
    },
    {
      "cell_type": "code",
      "source": [
        "data['text']=data['text'].apply(word_tokenize)\n",
        "show(data['text'])"
      ],
      "metadata": {
        "colab": {
          "base_uri": "https://localhost:8080/"
        },
        "id": "er8do5nOB3sG",
        "outputId": "7e1a05e9-0d11-49f3-e53f-8810ac578ffc"
      },
      "id": "er8do5nOB3sG",
      "execution_count": null,
      "outputs": [
        {
          "output_type": "stream",
          "name": "stdout",
          "text": [
            "['he', 'said', 'he', 'had', 'not', 'felt', 'that', 'way', 'before', 'suggeted', 'i', 'go', 'rest', 'and', 'so', 'trigger', 'ahead', 'if', 'youi', 're', 'a', 'hypocondriac', 'like', 'me', 'i', 'decide', 'to', 'look', 'up', 'feelings', 'of', 'doom', 'in', 'hopes', 'of', 'maybe', 'getting', 'sucked', 'into', 'some', 'rabbit', 'hole', 'of', 'ludicrous', 'conspiracy', 'a', 'stupid', 'are', 'you', 'psychic', 'test', 'or', 'new', 'age', 'b', 's', 'something', 'i', 'could', 'even', 'laugh', 'at', 'down', 'the', 'road', 'no', 'i', 'ended', 'up', 'reading', 'that', 'this', 'sense', 'of', 'doom', 'can', 'be', 'indicative', 'of', 'various', 'health', 'ailments', 'one', 'of', 'which', 'i', 'am', 'prone', 'to', 'so', 'on', 'top', 'of', 'my', 'doom', 'to', 'my', 'gloom', 'i', 'am', 'now', 'f', 'n', 'worried', 'about', 'my', 'heart', 'i', 'do', 'happen', 'to', 'have', 'a', 'physical', 'in', 'hours']\n",
            "['hey', 'there', 'r', 'assistance', 'not', 'sure', 'if', 'this', 'is', 'the', 'right', 'place', 'to', 'post', 'this', 'but', 'here', 'goes', 'i', 'm', 'currently', 'a', 'student', 'intern', 'at', 'sandia', 'national', 'labs', 'and', 'working', 'on', 'a', 'survey', 'to', 'help', 'improve', 'our', 'marketing', 'outreach', 'efforts', 'at', 'the', 'many', 'schools', 'we', 'recruit', 'at', 'around', 'the', 'country', 'we', 're', 'looking', 'for', 'current', 'undergrad', 'grad', 'stem', 'students', 'so', 'if', 'you', 're', 'a', 'stem', 'student', 'or', 'know', 'stem', 'students', 'i', 'would', 'greatly', 'appreciate', 'if', 'you', 'can', 'help', 'take', 'or', 'pass', 'along', 'this', 'short', 'survey', 'as', 'a', 'thank', 'you', 'everyone', 'who', 'helps', 'take', 'the', 'survey', 'will', 'be', 'entered', 'in', 'to', 'a', 'drawing', 'for', 'chance', 'to', 'win', 'one', 'of', 'three', 'amazon', 'gcs']\n",
            "['my', 'mom', 'then', 'hit', 'me', 'with', 'the', 'newspaper', 'and', 'it', 'shocked', 'me', 'that', 'she', 'would', 'do', 'this', 'she', 'knows', 'i', 'don', 't', 'like', 'play', 'hitting', 'smacking', 'striking', 'hitting', 'or', 'violence', 'of', 'any', 'sort', 'on', 'my', 'person', 'do', 'i', 'send', 'out', 'this', 'vibe', 'asking', 'for', 'it', 'from', 'the', 'universe', 'then', 'yesterday', 'i', 'decided', 'to', 'take', 'my', 'friend', 'to', 'go', 'help', 'another', 'friend', 'move', 'to', 'a', 'new', 'place', 'while', 'we', 'were', 'driving', 'the', 'friend', 'we', 'are', 'moving', 'strikes', 'me', 'on', 'my', 'shoulder', 'and', 'i', 'address', 'it', 'immediately', 'because', 'this', 'is', 'the', 'time', 'i', 'have', 'told', 'him', 'not', 'to', 'do', 'these', 'things', 'then', 'my', 'other', 'friend', 'who', 'is', 'driving', 'nearly', 'gets', 'into', 'an', 'collision', 'with', 'another', 'car', 'i', 'think', 'because', 'he', 'was', 'high', 'on', 'marijuana', 'and', 'the', 'friend', 'we', 'are', 'moving', 'in', 'the', 'backseat', 'is', 'like', 'you', 'have', 'to', 'understand', 'i', 'was', 'just', 'trying', 'to', 'get', 'your', 'attention', 'you', 'know', 'the', 'thing', 'year', 'olds', 'do', 'to', 'get', 'peoples', 'attention', 'by', 'smacking', 'them', 'this', 'guy', 'is', 'in', 'his', 's']\n",
            "['until', 'i', 'met', 'my', 'new', 'boyfriend', 'he', 'is', 'amazing', 'he', 'is', 'kind', 'he', 'is', 'sweet', 'he', 'is', 'a', 'good', 'student', 'he', 'likes', 'the', 'same', 'things', 'as', 'me', 'my', 'family', 'likes', 'him', 'and', 'so', 'on', 'but', 'i', 'dont', 'feel', 'that', 'passion', 'that', 'rush', 'i', 'felt', 'with', 'my', 'ex', 'the', 'truth', 'is', 'that', 'when', 'i', 'started', 'going', 'out', 'with', 'my', 'boyfriend', 'i', 'secretly', 'saw', 'my', 'ex', 'a', 'few', 'times', 'to', 'see', 'if', 'i', 'really', 'didnt', 'feel', 'nothing', 'for', 'him', 'but', 'it', 'was', 'disgusting', 'i', 'didnt', 'even', 'want', 'him', 'to', 'touch', 'me', 'i', 'feel', 'bad', 'with', 'myself', 'i', 'didnt', 'want', 'him', 'but', 'still', 'i', 'was', 'there', 'then', 'i', 'kinda', 'realized', 'i', 'felt', 'nothing', 'love', 'related', 'for', 'him', 'and', 'it', 'was', 'ok', 'he', 'was', 'hurt', 'when', 'he', 'knew', 'i', 'was', 'dating', 'this', 'boy', 'and', 'he', 'even', 'begged', 'me', 'to', 'stay', 'but', 'of', 'course', 'not', 'but', 'now', 'the', 'problem', 'is', 'that', 'when', 'im', 'with', 'my', 'boyfriend', 'i', 'dont', 'feel', 'like', 'i', 'love', 'him', 'like', 'that', 'thing', 'you', 'kinda', 'have', 'to', 'feel', 'with', 'a', 'new', 'love', 'i', 'just', 'feel', 'ok', 'with', 'him', 'and', 'i', 'catch', 'myself', 'thinking', 'about', 'my', 'ex', 'from', 'time', 'to', 'time', 'remembering', 'all', 'the', 'good', 'things', 'we', 'had', 'and', 'it', 'drives', 'me', 'crazy', 'because', 'i', 'know', 'that', 'if', 'i', 'see', 'him', 'again', 'i', 'wont', 'feel', 'that', 'way', 'that', 'love', 'that', 'my', 'mind', 'makes', 'me', 'think', 'stills', 'there', 'and', 'recently', 'i', 'found', 'out', 'that', 'he', 'has', 'a', 'girl', 'and', 'he', 'is', 'actually', 'enjoying', 'the', 'experience', 'and', 'i', 'got', 'so', 'mad', 'and', 'so', 'hurt', 'i', 'know', 'i', 'dont', 'have', 'any', 'right', 'to', 'feel', 'that', 'way', 'i', 'felt', 'betrayed', 'and', 'i', 'still', 'feel', 'that', 'way', 'i', 'gross', 'myself', 'out']\n",
            "['october', 'is', 'domestic', 'violence', 'awareness', 'month', 'and', 'i', 'am', 'a', 'domestic', 'violence', 'survivor', 'who', 'is', 'still', 'struggling', 'even', 'after', 'over', 'four', 'years', 'lately', 'i', 'have', 'been', 'feeling', 'very', 'angry', 'angry', 'that', 'my', 'abusive', 'ex', 'received', 'no', 'real', 'consequences', 'for', 'his', 'actions', 'this', 'man', 'abused', 'me', 'in', 'all', 'manners', 'physically', 'sexually', 'emotionally', 'verbally', 'financially', 'etc', 'i', 'was', 'granted', 'a', 'restraining', 'order', 'against', 'him', 'and', 'it', 'was', 'renewed', 'a', 'year', 'later', 'but', 'i', 'was', 'unable', 'to', 'press', 'criminal', 'charges', 'against', 'him', 'because', 'i', 'didn', 't', 'have', 'enough', 'evidence', 'to', 'have', 'a', 'case']\n",
            "['i', 'think', 'he', 'doesn', 't', 'want', 'to', 'put', 'in', 'the', 'effort', 'for', 'the', 'relationship', 'to', 'work', 'and', 'we', 're', 'both', 'so', 'difficult', 'that', 'we', 'have', 'to', 'work', 'on', 'our', 'relationships', 'doesn', 't', 'matter', 'with', 'whom', 'but', 'he', 'can', 't', 'be', 'without', 'me', 'either', 'what', 'should', 'i', 'do', 'i', 'm', 'afraid', 'this', 'is', 'gon', 'na', 'happen', 'over', 'and', 'over', 'again', 'because', 'i', 'm', 'always', 'forgiving', 'him', 'at', 'some', 'point', 'am', 'i', 'being', 'strung', 'along', 'tl', 'dr', 'boyfriend', 'broke', 'up', 'with', 'me', 'after', 'on', 'off', 'for', 'years', 'i', 'thought', 'we', 'just', 'got', 'it', 'together', 'and', 'am', 'devastated', 'don', 't', 'know', 'what', 'to', 'do', 'want', 'to', 'keep', 'fighting', 'but', 'should', 'i']\n"
          ]
        }
      ]
    },
    {
      "cell_type": "code",
      "source": [
        "import nltk\n",
        "nltk.download('stopwords')"
      ],
      "metadata": {
        "colab": {
          "base_uri": "https://localhost:8080/"
        },
        "id": "77QQW2QBDCi3",
        "outputId": "911f3860-3f2e-4571-9547-d6e1954d8a1c"
      },
      "id": "77QQW2QBDCi3",
      "execution_count": null,
      "outputs": [
        {
          "output_type": "stream",
          "name": "stderr",
          "text": [
            "[nltk_data] Downloading package stopwords to /root/nltk_data...\n",
            "[nltk_data]   Unzipping corpora/stopwords.zip.\n"
          ]
        },
        {
          "output_type": "execute_result",
          "data": {
            "text/plain": [
              "True"
            ]
          },
          "metadata": {},
          "execution_count": 11
        }
      ]
    },
    {
      "cell_type": "code",
      "source": [
        "def remove_stopwords(text):\n",
        "    stpw=set(stopwords.words('english'))\n",
        "    filtered_text=[word for word in text if word not in stpw]\n",
        "    return filtered_text\n",
        "data['text']=data['text'].apply(remove_stopwords)\n",
        "show(data['text'])"
      ],
      "metadata": {
        "colab": {
          "base_uri": "https://localhost:8080/"
        },
        "id": "ZAmPvgSyCVFP",
        "outputId": "b42bab42-e6f5-468b-f870-110908e75c4d"
      },
      "id": "ZAmPvgSyCVFP",
      "execution_count": null,
      "outputs": [
        {
          "output_type": "stream",
          "name": "stdout",
          "text": [
            "['said', 'felt', 'way', 'suggeted', 'go', 'rest', 'trigger', 'ahead', 'youi', 'hypocondriac', 'like', 'decide', 'look', 'feelings', 'doom', 'hopes', 'maybe', 'getting', 'sucked', 'rabbit', 'hole', 'ludicrous', 'conspiracy', 'stupid', 'psychic', 'test', 'new', 'age', 'b', 'something', 'could', 'even', 'laugh', 'road', 'ended', 'reading', 'sense', 'doom', 'indicative', 'various', 'health', 'ailments', 'one', 'prone', 'top', 'doom', 'gloom', 'f', 'n', 'worried', 'heart', 'happen', 'physical', 'hours']\n",
            "['hey', 'r', 'assistance', 'sure', 'right', 'place', 'post', 'goes', 'currently', 'student', 'intern', 'sandia', 'national', 'labs', 'working', 'survey', 'help', 'improve', 'marketing', 'outreach', 'efforts', 'many', 'schools', 'recruit', 'around', 'country', 'looking', 'current', 'undergrad', 'grad', 'stem', 'students', 'stem', 'student', 'know', 'stem', 'students', 'would', 'greatly', 'appreciate', 'help', 'take', 'pass', 'along', 'short', 'survey', 'thank', 'everyone', 'helps', 'take', 'survey', 'entered', 'drawing', 'chance', 'win', 'one', 'three', 'amazon', 'gcs']\n",
            "['mom', 'hit', 'newspaper', 'shocked', 'would', 'knows', 'like', 'play', 'hitting', 'smacking', 'striking', 'hitting', 'violence', 'sort', 'person', 'send', 'vibe', 'asking', 'universe', 'yesterday', 'decided', 'take', 'friend', 'go', 'help', 'another', 'friend', 'move', 'new', 'place', 'driving', 'friend', 'moving', 'strikes', 'shoulder', 'address', 'immediately', 'time', 'told', 'things', 'friend', 'driving', 'nearly', 'gets', 'collision', 'another', 'car', 'think', 'high', 'marijuana', 'friend', 'moving', 'backseat', 'like', 'understand', 'trying', 'get', 'attention', 'know', 'thing', 'year', 'olds', 'get', 'peoples', 'attention', 'smacking', 'guy']\n",
            "['met', 'new', 'boyfriend', 'amazing', 'kind', 'sweet', 'good', 'student', 'likes', 'things', 'family', 'likes', 'dont', 'feel', 'passion', 'rush', 'felt', 'ex', 'truth', 'started', 'going', 'boyfriend', 'secretly', 'saw', 'ex', 'times', 'see', 'really', 'didnt', 'feel', 'nothing', 'disgusting', 'didnt', 'even', 'want', 'touch', 'feel', 'bad', 'didnt', 'want', 'still', 'kinda', 'realized', 'felt', 'nothing', 'love', 'related', 'ok', 'hurt', 'knew', 'dating', 'boy', 'even', 'begged', 'stay', 'course', 'problem', 'im', 'boyfriend', 'dont', 'feel', 'like', 'love', 'like', 'thing', 'kinda', 'feel', 'new', 'love', 'feel', 'ok', 'catch', 'thinking', 'ex', 'time', 'time', 'remembering', 'good', 'things', 'drives', 'crazy', 'know', 'see', 'wont', 'feel', 'way', 'love', 'mind', 'makes', 'think', 'stills', 'recently', 'found', 'girl', 'actually', 'enjoying', 'experience', 'got', 'mad', 'hurt', 'know', 'dont', 'right', 'feel', 'way', 'felt', 'betrayed', 'still', 'feel', 'way', 'gross']\n",
            "['october', 'domestic', 'violence', 'awareness', 'month', 'domestic', 'violence', 'survivor', 'still', 'struggling', 'even', 'four', 'years', 'lately', 'feeling', 'angry', 'angry', 'abusive', 'ex', 'received', 'real', 'consequences', 'actions', 'man', 'abused', 'manners', 'physically', 'sexually', 'emotionally', 'verbally', 'financially', 'etc', 'granted', 'restraining', 'order', 'renewed', 'year', 'later', 'unable', 'press', 'criminal', 'charges', 'enough', 'evidence', 'case']\n",
            "['think', 'want', 'put', 'effort', 'relationship', 'work', 'difficult', 'work', 'relationships', 'matter', 'without', 'either', 'afraid', 'gon', 'na', 'happen', 'always', 'forgiving', 'point', 'strung', 'along', 'tl', 'dr', 'boyfriend', 'broke', 'years', 'thought', 'got', 'together', 'devastated', 'know', 'want', 'keep', 'fighting']\n"
          ]
        }
      ]
    },
    {
      "cell_type": "code",
      "source": [
        "import nltk\n",
        "nltk.download('wordnet')"
      ],
      "metadata": {
        "colab": {
          "base_uri": "https://localhost:8080/"
        },
        "id": "X5jPrhx1DJB7",
        "outputId": "13fde9d7-dd20-4674-b281-9928837aa2e0"
      },
      "id": "X5jPrhx1DJB7",
      "execution_count": null,
      "outputs": [
        {
          "output_type": "stream",
          "name": "stderr",
          "text": [
            "[nltk_data] Downloading package wordnet to /root/nltk_data...\n"
          ]
        },
        {
          "output_type": "execute_result",
          "data": {
            "text/plain": [
              "True"
            ]
          },
          "metadata": {},
          "execution_count": 13
        }
      ]
    },
    {
      "cell_type": "code",
      "source": [
        "def lemmatize_words(text):\n",
        "    lemmer=WordNetLemmatizer()\n",
        "    lemmatized_text=[lemmer.lemmatize(word,pos='v') for word in text]\n",
        "    return lemmatized_text\n",
        "data['text']=data['text'].apply(lemmatize_words)\n",
        "show(data['text'])"
      ],
      "metadata": {
        "colab": {
          "base_uri": "https://localhost:8080/"
        },
        "id": "AE0HFnkFClA_",
        "outputId": "257a29e2-157b-4869-c378-cf888625bd81"
      },
      "id": "AE0HFnkFClA_",
      "execution_count": null,
      "outputs": [
        {
          "output_type": "stream",
          "name": "stdout",
          "text": [
            "['say', 'felt', 'way', 'suggeted', 'go', 'rest', 'trigger', 'ahead', 'youi', 'hypocondriac', 'like', 'decide', 'look', 'feel', 'doom', 'hop', 'maybe', 'get', 'suck', 'rabbit', 'hole', 'ludicrous', 'conspiracy', 'stupid', 'psychic', 'test', 'new', 'age', 'b', 'something', 'could', 'even', 'laugh', 'road', 'end', 'read', 'sense', 'doom', 'indicative', 'various', 'health', 'ailments', 'one', 'prone', 'top', 'doom', 'gloom', 'f', 'n', 'worry', 'heart', 'happen', 'physical', 'hours']\n",
            "['hey', 'r', 'assistance', 'sure', 'right', 'place', 'post', 'go', 'currently', 'student', 'intern', 'sandia', 'national', 'labs', 'work', 'survey', 'help', 'improve', 'market', 'outreach', 'efforts', 'many', 'school', 'recruit', 'around', 'country', 'look', 'current', 'undergrad', 'grad', 'stem', 'students', 'stem', 'student', 'know', 'stem', 'students', 'would', 'greatly', 'appreciate', 'help', 'take', 'pass', 'along', 'short', 'survey', 'thank', 'everyone', 'help', 'take', 'survey', 'enter', 'draw', 'chance', 'win', 'one', 'three', 'amazon', 'gcs']\n",
            "['mom', 'hit', 'newspaper', 'shock', 'would', 'know', 'like', 'play', 'hit', 'smack', 'strike', 'hit', 'violence', 'sort', 'person', 'send', 'vibe', 'ask', 'universe', 'yesterday', 'decide', 'take', 'friend', 'go', 'help', 'another', 'friend', 'move', 'new', 'place', 'drive', 'friend', 'move', 'strike', 'shoulder', 'address', 'immediately', 'time', 'tell', 'things', 'friend', 'drive', 'nearly', 'get', 'collision', 'another', 'car', 'think', 'high', 'marijuana', 'friend', 'move', 'backseat', 'like', 'understand', 'try', 'get', 'attention', 'know', 'thing', 'year', 'olds', 'get', 'people', 'attention', 'smack', 'guy']\n",
            "['meet', 'new', 'boyfriend', 'amaze', 'kind', 'sweet', 'good', 'student', 'like', 'things', 'family', 'like', 'dont', 'feel', 'passion', 'rush', 'felt', 'ex', 'truth', 'start', 'go', 'boyfriend', 'secretly', 'saw', 'ex', 'time', 'see', 'really', 'didnt', 'feel', 'nothing', 'disgust', 'didnt', 'even', 'want', 'touch', 'feel', 'bad', 'didnt', 'want', 'still', 'kinda', 'realize', 'felt', 'nothing', 'love', 'relate', 'ok', 'hurt', 'know', 'date', 'boy', 'even', 'beg', 'stay', 'course', 'problem', 'im', 'boyfriend', 'dont', 'feel', 'like', 'love', 'like', 'thing', 'kinda', 'feel', 'new', 'love', 'feel', 'ok', 'catch', 'think', 'ex', 'time', 'time', 'remember', 'good', 'things', 'drive', 'crazy', 'know', 'see', 'wont', 'feel', 'way', 'love', 'mind', 'make', 'think', 'still', 'recently', 'find', 'girl', 'actually', 'enjoy', 'experience', 'get', 'mad', 'hurt', 'know', 'dont', 'right', 'feel', 'way', 'felt', 'betray', 'still', 'feel', 'way', 'gross']\n",
            "['october', 'domestic', 'violence', 'awareness', 'month', 'domestic', 'violence', 'survivor', 'still', 'struggle', 'even', 'four', 'years', 'lately', 'feel', 'angry', 'angry', 'abusive', 'ex', 'receive', 'real', 'consequences', 'action', 'man', 'abuse', 'manners', 'physically', 'sexually', 'emotionally', 'verbally', 'financially', 'etc', 'grant', 'restrain', 'order', 'renew', 'year', 'later', 'unable', 'press', 'criminal', 'charge', 'enough', 'evidence', 'case']\n",
            "['think', 'want', 'put', 'effort', 'relationship', 'work', 'difficult', 'work', 'relationships', 'matter', 'without', 'either', 'afraid', 'gon', 'na', 'happen', 'always', 'forgive', 'point', 'string', 'along', 'tl', 'dr', 'boyfriend', 'break', 'years', 'think', 'get', 'together', 'devastate', 'know', 'want', 'keep', 'fight']\n"
          ]
        }
      ]
    },
    {
      "cell_type": "code",
      "source": [
        "data['length']=data['text'].apply(lambda x : len(x))\n",
        "data['text']=data['text'].apply(lambda x : ' '.join([index for index in x]))\n",
        "show(data['text'])"
      ],
      "metadata": {
        "colab": {
          "base_uri": "https://localhost:8080/"
        },
        "id": "HpsKRgRTClDo",
        "outputId": "ad0783af-889f-495b-9131-818c09201129"
      },
      "id": "HpsKRgRTClDo",
      "execution_count": null,
      "outputs": [
        {
          "output_type": "stream",
          "name": "stdout",
          "text": [
            "say felt way suggeted go rest trigger ahead youi hypocondriac like decide look feel doom hop maybe get suck rabbit hole ludicrous conspiracy stupid psychic test new age b something could even laugh road end read sense doom indicative various health ailments one prone top doom gloom f n worry heart happen physical hours\n",
            "hey r assistance sure right place post go currently student intern sandia national labs work survey help improve market outreach efforts many school recruit around country look current undergrad grad stem students stem student know stem students would greatly appreciate help take pass along short survey thank everyone help take survey enter draw chance win one three amazon gcs\n",
            "mom hit newspaper shock would know like play hit smack strike hit violence sort person send vibe ask universe yesterday decide take friend go help another friend move new place drive friend move strike shoulder address immediately time tell things friend drive nearly get collision another car think high marijuana friend move backseat like understand try get attention know thing year olds get people attention smack guy\n",
            "meet new boyfriend amaze kind sweet good student like things family like dont feel passion rush felt ex truth start go boyfriend secretly saw ex time see really didnt feel nothing disgust didnt even want touch feel bad didnt want still kinda realize felt nothing love relate ok hurt know date boy even beg stay course problem im boyfriend dont feel like love like thing kinda feel new love feel ok catch think ex time time remember good things drive crazy know see wont feel way love mind make think still recently find girl actually enjoy experience get mad hurt know dont right feel way felt betray still feel way gross\n",
            "october domestic violence awareness month domestic violence survivor still struggle even four years lately feel angry angry abusive ex receive real consequences action man abuse manners physically sexually emotionally verbally financially etc grant restrain order renew year later unable press criminal charge enough evidence case\n",
            "think want put effort relationship work difficult work relationships matter without either afraid gon na happen always forgive point string along tl dr boyfriend break years think get together devastate know want keep fight\n"
          ]
        }
      ]
    },
    {
      "cell_type": "code",
      "source": [
        "from sklearn.model_selection import train_test_split,GridSearchCV\n",
        "from sklearn.feature_extraction.text import TfidfVectorizer\n",
        "from sklearn.metrics import accuracy_score,confusion_matrix,ConfusionMatrixDisplay\n",
        "from sklearn.svm import SVC"
      ],
      "metadata": {
        "id": "hoxOPZgoClGH"
      },
      "id": "hoxOPZgoClGH",
      "execution_count": null,
      "outputs": []
    },
    {
      "cell_type": "code",
      "source": [
        "X=data['text']\n",
        "y=data['label']"
      ],
      "metadata": {
        "id": "WkfUBMqeClIc"
      },
      "id": "WkfUBMqeClIc",
      "execution_count": null,
      "outputs": []
    },
    {
      "cell_type": "code",
      "source": [
        "X_train,X_val,y_train,y_val=train_test_split(X,y,stratify=y,test_size=0.25)"
      ],
      "metadata": {
        "id": "j-pt6uA6ClKr"
      },
      "id": "j-pt6uA6ClKr",
      "execution_count": null,
      "outputs": []
    },
    {
      "cell_type": "code",
      "source": [
        "vect=TfidfVectorizer()\n",
        "X_train=vect.fit_transform(X_train)\n",
        "X_val=vect.transform(X_val)"
      ],
      "metadata": {
        "id": "RXnmtfWSClNG"
      },
      "id": "RXnmtfWSClNG",
      "execution_count": null,
      "outputs": []
    },
    {
      "cell_type": "code",
      "source": [
        "model=SVC()\n",
        "model.fit(X_train,y_train)"
      ],
      "metadata": {
        "colab": {
          "base_uri": "https://localhost:8080/",
          "height": 74
        },
        "id": "1jzGuc7QCs2Z",
        "outputId": "8d4798de-410f-4b37-d719-190019d42f3d"
      },
      "id": "1jzGuc7QCs2Z",
      "execution_count": null,
      "outputs": [
        {
          "output_type": "execute_result",
          "data": {
            "text/plain": [
              "SVC()"
            ],
            "text/html": [
              "<style>#sk-container-id-1 {color: black;background-color: white;}#sk-container-id-1 pre{padding: 0;}#sk-container-id-1 div.sk-toggleable {background-color: white;}#sk-container-id-1 label.sk-toggleable__label {cursor: pointer;display: block;width: 100%;margin-bottom: 0;padding: 0.3em;box-sizing: border-box;text-align: center;}#sk-container-id-1 label.sk-toggleable__label-arrow:before {content: \"▸\";float: left;margin-right: 0.25em;color: #696969;}#sk-container-id-1 label.sk-toggleable__label-arrow:hover:before {color: black;}#sk-container-id-1 div.sk-estimator:hover label.sk-toggleable__label-arrow:before {color: black;}#sk-container-id-1 div.sk-toggleable__content {max-height: 0;max-width: 0;overflow: hidden;text-align: left;background-color: #f0f8ff;}#sk-container-id-1 div.sk-toggleable__content pre {margin: 0.2em;color: black;border-radius: 0.25em;background-color: #f0f8ff;}#sk-container-id-1 input.sk-toggleable__control:checked~div.sk-toggleable__content {max-height: 200px;max-width: 100%;overflow: auto;}#sk-container-id-1 input.sk-toggleable__control:checked~label.sk-toggleable__label-arrow:before {content: \"▾\";}#sk-container-id-1 div.sk-estimator input.sk-toggleable__control:checked~label.sk-toggleable__label {background-color: #d4ebff;}#sk-container-id-1 div.sk-label input.sk-toggleable__control:checked~label.sk-toggleable__label {background-color: #d4ebff;}#sk-container-id-1 input.sk-hidden--visually {border: 0;clip: rect(1px 1px 1px 1px);clip: rect(1px, 1px, 1px, 1px);height: 1px;margin: -1px;overflow: hidden;padding: 0;position: absolute;width: 1px;}#sk-container-id-1 div.sk-estimator {font-family: monospace;background-color: #f0f8ff;border: 1px dotted black;border-radius: 0.25em;box-sizing: border-box;margin-bottom: 0.5em;}#sk-container-id-1 div.sk-estimator:hover {background-color: #d4ebff;}#sk-container-id-1 div.sk-parallel-item::after {content: \"\";width: 100%;border-bottom: 1px solid gray;flex-grow: 1;}#sk-container-id-1 div.sk-label:hover label.sk-toggleable__label {background-color: #d4ebff;}#sk-container-id-1 div.sk-serial::before {content: \"\";position: absolute;border-left: 1px solid gray;box-sizing: border-box;top: 0;bottom: 0;left: 50%;z-index: 0;}#sk-container-id-1 div.sk-serial {display: flex;flex-direction: column;align-items: center;background-color: white;padding-right: 0.2em;padding-left: 0.2em;position: relative;}#sk-container-id-1 div.sk-item {position: relative;z-index: 1;}#sk-container-id-1 div.sk-parallel {display: flex;align-items: stretch;justify-content: center;background-color: white;position: relative;}#sk-container-id-1 div.sk-item::before, #sk-container-id-1 div.sk-parallel-item::before {content: \"\";position: absolute;border-left: 1px solid gray;box-sizing: border-box;top: 0;bottom: 0;left: 50%;z-index: -1;}#sk-container-id-1 div.sk-parallel-item {display: flex;flex-direction: column;z-index: 1;position: relative;background-color: white;}#sk-container-id-1 div.sk-parallel-item:first-child::after {align-self: flex-end;width: 50%;}#sk-container-id-1 div.sk-parallel-item:last-child::after {align-self: flex-start;width: 50%;}#sk-container-id-1 div.sk-parallel-item:only-child::after {width: 0;}#sk-container-id-1 div.sk-dashed-wrapped {border: 1px dashed gray;margin: 0 0.4em 0.5em 0.4em;box-sizing: border-box;padding-bottom: 0.4em;background-color: white;}#sk-container-id-1 div.sk-label label {font-family: monospace;font-weight: bold;display: inline-block;line-height: 1.2em;}#sk-container-id-1 div.sk-label-container {text-align: center;}#sk-container-id-1 div.sk-container {/* jupyter's `normalize.less` sets `[hidden] { display: none; }` but bootstrap.min.css set `[hidden] { display: none !important; }` so we also need the `!important` here to be able to override the default hidden behavior on the sphinx rendered scikit-learn.org. See: https://github.com/scikit-learn/scikit-learn/issues/21755 */display: inline-block !important;position: relative;}#sk-container-id-1 div.sk-text-repr-fallback {display: none;}</style><div id=\"sk-container-id-1\" class=\"sk-top-container\"><div class=\"sk-text-repr-fallback\"><pre>SVC()</pre><b>In a Jupyter environment, please rerun this cell to show the HTML representation or trust the notebook. <br />On GitHub, the HTML representation is unable to render, please try loading this page with nbviewer.org.</b></div><div class=\"sk-container\" hidden><div class=\"sk-item\"><div class=\"sk-estimator sk-toggleable\"><input class=\"sk-toggleable__control sk-hidden--visually\" id=\"sk-estimator-id-1\" type=\"checkbox\" checked><label for=\"sk-estimator-id-1\" class=\"sk-toggleable__label sk-toggleable__label-arrow\">SVC</label><div class=\"sk-toggleable__content\"><pre>SVC()</pre></div></div></div></div></div>"
            ]
          },
          "metadata": {},
          "execution_count": 20
        }
      ]
    },
    {
      "cell_type": "code",
      "source": [
        "y_pred=model.predict(X_val)\n",
        "accuracy_score(y_val,y_pred)"
      ],
      "metadata": {
        "colab": {
          "base_uri": "https://localhost:8080/"
        },
        "id": "WXf7__KMCs5D",
        "outputId": "9bab1c94-ffe9-4b61-dc3e-e3787e3ca2c1"
      },
      "id": "WXf7__KMCs5D",
      "execution_count": null,
      "outputs": [
        {
          "output_type": "execute_result",
          "data": {
            "text/plain": [
              "0.7366197183098592"
            ]
          },
          "metadata": {},
          "execution_count": 21
        }
      ]
    },
    {
      "cell_type": "code",
      "source": [
        "cm=confusion_matrix(y_val,y_pred)\n",
        "dis=ConfusionMatrixDisplay(confusion_matrix=cm)\n",
        "dis.plot()"
      ],
      "metadata": {
        "colab": {
          "base_uri": "https://localhost:8080/",
          "height": 466
        },
        "id": "-1UjXhgLCs9h",
        "outputId": "3b8f431f-73e8-406f-8372-479046d25fe2"
      },
      "id": "-1UjXhgLCs9h",
      "execution_count": null,
      "outputs": [
        {
          "output_type": "execute_result",
          "data": {
            "text/plain": [
              "<sklearn.metrics._plot.confusion_matrix.ConfusionMatrixDisplay at 0x789cdc46d210>"
            ]
          },
          "metadata": {},
          "execution_count": 22
        },
        {
          "output_type": "display_data",
          "data": {
            "text/plain": [
              "<Figure size 640x480 with 2 Axes>"
            ],
            "image/png": "[encoded data removed]"
          },
          "metadata": {}
        }
      ]
    },
    {
      "cell_type": "code",
      "source": [
        "input=pd.DataFrame({\n",
        "    'text':['Open to any sort of help, be it public talk in the comments, talk in dms, an offer of transport and or shelter. Links to any other places to ask for help would be nice. Happy to talk with another social media or platform - such as fb, twitter or discord. I have looked in the side information, but none of the other linked subs look like suitable places to ask for this sort of help. I have looked at r/couchsurfing, but the problem of travel glares']\n",
        "})\n",
        "input['text']=input['text'].apply(word_tokenize)\n",
        "input['text']=input['text'].apply(remove_stopwords)\n",
        "input['text']=input['text'].apply(lemmatize_words)\n",
        "input['text']=input['text'].apply(lambda x : ' '.join([index for index in x]))"
      ],
      "metadata": {
        "id": "jmdA6LGpCzJV"
      },
      "id": "jmdA6LGpCzJV",
      "execution_count": null,
      "outputs": []
    },
    {
      "cell_type": "code",
      "source": [
        "input"
      ],
      "metadata": {
        "colab": {
          "base_uri": "https://localhost:8080/",
          "height": 89
        },
        "id": "ncWx11BNCzMA",
        "outputId": "22134ecf-fc43-407e-bc88-9711619e878c"
      },
      "id": "ncWx11BNCzMA",
      "execution_count": null,
      "outputs": [
        {
          "output_type": "execute_result",
          "data": {
            "text/plain": [
              "                                                text\n",
              "0  Open sort help , public talk comment , talk dm..."
            ],
            "text/html": [
              "\n",
              "  <div id=\"df-7beb0498-8f2c-458d-9a1c-0d49aabb5878\" class=\"colab-df-container\">\n",
              "    <div>\n",
              "<style scoped>\n",
              "    .dataframe tbody tr th:only-of-type {\n",
              "        vertical-align: middle;\n",
              "    }\n",
              "\n",
              "    .dataframe tbody tr th {\n",
              "        vertical-align: top;\n",
              "    }\n",
              "\n",
              "    .dataframe thead th {\n",
              "        text-align: right;\n",
              "    }\n",
              "</style>\n",
              "<table border=\"1\" class=\"dataframe\">\n",
              "  <thead>\n",
              "    <tr style=\"text-align: right;\">\n",
              "      <th></th>\n",
              "      <th>text</th>\n",
              "    </tr>\n",
              "  </thead>\n",
              "  <tbody>\n",
              "    <tr>\n",
              "      <th>0</th>\n",
              "      <td>Open sort help , public talk comment , talk dm...</td>\n",
              "    </tr>\n",
              "  </tbody>\n",
              "</table>\n",
              "</div>\n",
              "    <div class=\"colab-df-buttons\">\n",
              "\n",
              "  <div class=\"colab-df-container\">\n",
              "    <button class=\"colab-df-convert\" onclick=\"convertToInteractive('df-7beb0498-8f2c-458d-9a1c-0d49aabb5878')\"\n",
              "            title=\"Convert this dataframe to an interactive table.\"\n",
              "            style=\"display:none;\">\n",
              "\n",
              "  <svg xmlns=\"http://www.w3.org/2000/svg\" height=\"24px\" viewBox=\"0 -960 960 960\">\n",
              "    <path d=\"M120-120v-720h720v720H120Zm60-500h600v-160H180v160Zm220 220h160v-160H400v160Zm0 220h160v-160H400v160ZM180-400h160v-160H180v160Zm440 0h160v-160H620v160ZM180-180h160v-160H180v160Zm440 0h160v-160H620v160Z\"/>\n",
              "  </svg>\n",
              "    </button>\n",
              "\n",
              "  <style>\n",
              "    .colab-df-container {\n",
              "      display:flex;\n",
              "      gap: 12px;\n",
              "    }\n",
              "\n",
              "    .colab-df-convert {\n",
              "      background-color: #E8F0FE;\n",
              "      border: none;\n",
              "      border-radius: 50%;\n",
              "      cursor: pointer;\n",
              "      display: none;\n",
              "      fill: #1967D2;\n",
              "      height: 32px;\n",
              "      padding: 0 0 0 0;\n",
              "      width: 32px;\n",
              "    }\n",
              "\n",
              "    .colab-df-convert:hover {\n",
              "      background-color: #E2EBFA;\n",
              "      box-shadow: 0px 1px 2px rgba(60, 64, 67, 0.3), 0px 1px 3px 1px rgba(60, 64, 67, 0.15);\n",
              "      fill: #174EA6;\n",
              "    }\n",
              "\n",
              "    .colab-df-buttons div {\n",
              "      margin-bottom: 4px;\n",
              "    }\n",
              "\n",
              "    [theme=dark] .colab-df-convert {\n",
              "      background-color: #3B4455;\n",
              "      fill: #D2E3FC;\n",
              "    }\n",
              "\n",
              "    [theme=dark] .colab-df-convert:hover {\n",
              "      background-color: #434B5C;\n",
              "      box-shadow: 0px 1px 3px 1px rgba(0, 0, 0, 0.15);\n",
              "      filter: drop-shadow(0px 1px 2px rgba(0, 0, 0, 0.3));\n",
              "      fill: #FFFFFF;\n",
              "    }\n",
              "  </style>\n",
              "\n",
              "    <script>\n",
              "      const buttonEl =\n",
              "        document.querySelector('#df-7beb0498-8f2c-458d-9a1c-0d49aabb5878 button.colab-df-convert');\n",
              "      buttonEl.style.display =\n",
              "        google.colab.kernel.accessAllowed ? 'block' : 'none';\n",
              "\n",
              "      async function convertToInteractive(key) {\n",
              "        const element = document.querySelector('#df-7beb0498-8f2c-458d-9a1c-0d49aabb5878');\n",
              "        const dataTable =\n",
              "          await google.colab.kernel.invokeFunction('convertToInteractive',\n",
              "                                                    [key], {});\n",
              "        if (!dataTable) return;\n",
              "\n",
              "        const docLinkHtml = 'Like what you see? Visit the ' +\n",
              "          '<a target=\"_blank\" href=https://colab.research.google.com/notebooks/data_table.ipynb>data table notebook</a>'\n",
              "          + ' to learn more about interactive tables.';\n",
              "        element.innerHTML = '';\n",
              "        dataTable['output_type'] = 'display_data';\n",
              "        await google.colab.output.renderOutput(dataTable, element);\n",
              "        const docLink = document.createElement('div');\n",
              "        docLink.innerHTML = docLinkHtml;\n",
              "        element.appendChild(docLink);\n",
              "      }\n",
              "    </script>\n",
              "  </div>\n",
              "\n",
              "\n",
              "  <div id=\"id_7370334f-e300-43d8-8df4-523a348625df\">\n",
              "    <style>\n",
              "      .colab-df-generate {\n",
              "        background-color: #E8F0FE;\n",
              "        border: none;\n",
              "        border-radius: 50%;\n",
              "        cursor: pointer;\n",
              "        display: none;\n",
              "        fill: #1967D2;\n",
              "        height: 32px;\n",
              "        padding: 0 0 0 0;\n",
              "        width: 32px;\n",
              "      }\n",
              "\n",
              "      .colab-df-generate:hover {\n",
              "        background-color: #E2EBFA;\n",
              "        box-shadow: 0px 1px 2px rgba(60, 64, 67, 0.3), 0px 1px 3px 1px rgba(60, 64, 67, 0.15);\n",
              "        fill: #174EA6;\n",
              "      }\n",
              "\n",
              "      [theme=dark] .colab-df-generate {\n",
              "        background-color: #3B4455;\n",
              "        fill: #D2E3FC;\n",
              "      }\n",
              "\n",
              "      [theme=dark] .colab-df-generate:hover {\n",
              "        background-color: #434B5C;\n",
              "        box-shadow: 0px 1px 3px 1px rgba(0, 0, 0, 0.15);\n",
              "        filter: drop-shadow(0px 1px 2px rgba(0, 0, 0, 0.3));\n",
              "        fill: #FFFFFF;\n",
              "      }\n",
              "    </style>\n",
              "    <button class=\"colab-df-generate\" onclick=\"generateWithVariable('input')\"\n",
              "            title=\"Generate code using this dataframe.\"\n",
              "            style=\"display:none;\">\n",
              "\n",
              "  <svg xmlns=\"http://www.w3.org/2000/svg\" height=\"24px\"viewBox=\"0 0 24 24\"\n",
              "       width=\"24px\">\n",
              "    <path d=\"M7,19H8.4L18.45,9,17,7.55,7,17.6ZM5,21V16.75L18.45,3.32a2,2,0,0,1,2.83,0l1.4,1.43a1.91,1.91,0,0,1,.58,1.4,1.91,1.91,0,0,1-.58,1.4L9.25,21ZM18.45,9,17,7.55Zm-12,3A5.31,5.31,0,0,0,4.9,8.1,5.31,5.31,0,0,0,1,6.5,5.31,5.31,0,0,0,4.9,4.9,5.31,5.31,0,0,0,6.5,1,5.31,5.31,0,0,0,8.1,4.9,5.31,5.31,0,0,0,12,6.5,5.46,5.46,0,0,0,6.5,12Z\"/>\n",
              "  </svg>\n",
              "    </button>\n",
              "    <script>\n",
              "      (() => {\n",
              "      const buttonEl =\n",
              "        document.querySelector('#id_7370334f-e300-43d8-8df4-523a348625df button.colab-df-generate');\n",
              "      buttonEl.style.display =\n",
              "        google.colab.kernel.accessAllowed ? 'block' : 'none';\n",
              "\n",
              "      buttonEl.onclick = () => {\n",
              "        google.colab.notebook.generateWithVariable('input');\n",
              "      }\n",
              "      })();\n",
              "    </script>\n",
              "  </div>\n",
              "\n",
              "    </div>\n",
              "  </div>\n"
            ]
          },
          "metadata": {},
          "execution_count": 28
        }
      ]
    },
    {
      "cell_type": "code",
      "source": [
        "X_valid=vect.transform(input['text'])\n",
        "X_valid"
      ],
      "metadata": {
        "id": "BJb_zURADVng",
        "colab": {
          "base_uri": "https://localhost:8080/"
        },
        "outputId": "9a0aae0e-195d-462e-b4e4-c048041163a4"
      },
      "id": "BJb_zURADVng",
      "execution_count": null,
      "outputs": [
        {
          "output_type": "execute_result",
          "data": {
            "text/plain": [
              "<1x7493 sparse matrix of type '<class 'numpy.float64'>'\n",
              "\twith 32 stored elements in Compressed Sparse Row format>"
            ]
          },
          "metadata": {},
          "execution_count": 29
        }
      ]
    },
    {
      "cell_type": "code",
      "source": [
        "input['predicted']=model.predict(X_valid)\n",
        "input['predicted']=input['predicted'].apply(lambda x : 'Stress' if x == 1 else 'Not Stress')\n",
        "input"
      ],
      "metadata": {
        "colab": {
          "base_uri": "https://localhost:8080/",
          "height": 89
        },
        "id": "Lx8XvWTv2Pj6",
        "outputId": "e44851f9-e2f1-4acc-8d99-439b04ba751e"
      },
      "id": "Lx8XvWTv2Pj6",
      "execution_count": null,
      "outputs": [
        {
          "output_type": "execute_result",
          "data": {
            "text/plain": [
              "                                                text   predicted\n",
              "0  Open sort help , public talk comment , talk dm...  Not Stress"
            ],
            "text/html": [
              "\n",
              "  <div id=\"df-26218c8e-49d4-4d1a-940d-4c1948979f98\" class=\"colab-df-container\">\n",
              "    <div>\n",
              "<style scoped>\n",
              "    .dataframe tbody tr th:only-of-type {\n",
              "        vertical-align: middle;\n",
              "    }\n",
              "\n",
              "    .dataframe tbody tr th {\n",
              "        vertical-align: top;\n",
              "    }\n",
              "\n",
              "    .dataframe thead th {\n",
              "        text-align: right;\n",
              "    }\n",
              "</style>\n",
              "<table border=\"1\" class=\"dataframe\">\n",
              "  <thead>\n",
              "    <tr style=\"text-align: right;\">\n",
              "      <th></th>\n",
              "      <th>text</th>\n",
              "      <th>predicted</th>\n",
              "    </tr>\n",
              "  </thead>\n",
              "  <tbody>\n",
              "    <tr>\n",
              "      <th>0</th>\n",
              "      <td>Open sort help , public talk comment , talk dm...</td>\n",
              "      <td>Not Stress</td>\n",
              "    </tr>\n",
              "  </tbody>\n",
              "</table>\n",
              "</div>\n",
              "    <div class=\"colab-df-buttons\">\n",
              "\n",
              "  <div class=\"colab-df-container\">\n",
              "    <button class=\"colab-df-convert\" onclick=\"convertToInteractive('df-26218c8e-49d4-4d1a-940d-4c1948979f98')\"\n",
              "            title=\"Convert this dataframe to an interactive table.\"\n",
              "            style=\"display:none;\">\n",
              "\n",
              "  <svg xmlns=\"http://www.w3.org/2000/svg\" height=\"24px\" viewBox=\"0 -960 960 960\">\n",
              "    <path d=\"M120-120v-720h720v720H120Zm60-500h600v-160H180v160Zm220 220h160v-160H400v160Zm0 220h160v-160H400v160ZM180-400h160v-160H180v160Zm440 0h160v-160H620v160ZM180-180h160v-160H180v160Zm440 0h160v-160H620v160Z\"/>\n",
              "  </svg>\n",
              "    </button>\n",
              "\n",
              "  <style>\n",
              "    .colab-df-container {\n",
              "      display:flex;\n",
              "      gap: 12px;\n",
              "    }\n",
              "\n",
              "    .colab-df-convert {\n",
              "      background-color: #E8F0FE;\n",
              "      border: none;\n",
              "      border-radius: 50%;\n",
              "      cursor: pointer;\n",
              "      display: none;\n",
              "      fill: #1967D2;\n",
              "      height: 32px;\n",
              "      padding: 0 0 0 0;\n",
              "      width: 32px;\n",
              "    }\n",
              "\n",
              "    .colab-df-convert:hover {\n",
              "      background-color: #E2EBFA;\n",
              "      box-shadow: 0px 1px 2px rgba(60, 64, 67, 0.3), 0px 1px 3px 1px rgba(60, 64, 67, 0.15);\n",
              "      fill: #174EA6;\n",
              "    }\n",
              "\n",
              "    .colab-df-buttons div {\n",
              "      margin-bottom: 4px;\n",
              "    }\n",
              "\n",
              "    [theme=dark] .colab-df-convert {\n",
              "      background-color: #3B4455;\n",
              "      fill: #D2E3FC;\n",
              "    }\n",
              "\n",
              "    [theme=dark] .colab-df-convert:hover {\n",
              "      background-color: #434B5C;\n",
              "      box-shadow: 0px 1px 3px 1px rgba(0, 0, 0, 0.15);\n",
              "      filter: drop-shadow(0px 1px 2px rgba(0, 0, 0, 0.3));\n",
              "      fill: #FFFFFF;\n",
              "    }\n",
              "  </style>\n",
              "\n",
              "    <script>\n",
              "      const buttonEl =\n",
              "        document.querySelector('#df-26218c8e-49d4-4d1a-940d-4c1948979f98 button.colab-df-convert');\n",
              "      buttonEl.style.display =\n",
              "        google.colab.kernel.accessAllowed ? 'block' : 'none';\n",
              "\n",
              "      async function convertToInteractive(key) {\n",
              "        const element = document.querySelector('#df-26218c8e-49d4-4d1a-940d-4c1948979f98');\n",
              "        const dataTable =\n",
              "          await google.colab.kernel.invokeFunction('convertToInteractive',\n",
              "                                                    [key], {});\n",
              "        if (!dataTable) return;\n",
              "\n",
              "        const docLinkHtml = 'Like what you see? Visit the ' +\n",
              "          '<a target=\"_blank\" href=https://colab.research.google.com/notebooks/data_table.ipynb>data table notebook</a>'\n",
              "          + ' to learn more about interactive tables.';\n",
              "        element.innerHTML = '';\n",
              "        dataTable['output_type'] = 'display_data';\n",
              "        await google.colab.output.renderOutput(dataTable, element);\n",
              "        const docLink = document.createElement('div');\n",
              "        docLink.innerHTML = docLinkHtml;\n",
              "        element.appendChild(docLink);\n",
              "      }\n",
              "    </script>\n",
              "  </div>\n",
              "\n",
              "\n",
              "  <div id=\"id_8f1d3785-3fdb-4816-8f65-5ffa694193e6\">\n",
              "    <style>\n",
              "      .colab-df-generate {\n",
              "        background-color: #E8F0FE;\n",
              "        border: none;\n",
              "        border-radius: 50%;\n",
              "        cursor: pointer;\n",
              "        display: none;\n",
              "        fill: #1967D2;\n",
              "        height: 32px;\n",
              "        padding: 0 0 0 0;\n",
              "        width: 32px;\n",
              "      }\n",
              "\n",
              "      .colab-df-generate:hover {\n",
              "        background-color: #E2EBFA;\n",
              "        box-shadow: 0px 1px 2px rgba(60, 64, 67, 0.3), 0px 1px 3px 1px rgba(60, 64, 67, 0.15);\n",
              "        fill: #174EA6;\n",
              "      }\n",
              "\n",
              "      [theme=dark] .colab-df-generate {\n",
              "        background-color: #3B4455;\n",
              "        fill: #D2E3FC;\n",
              "      }\n",
              "\n",
              "      [theme=dark] .colab-df-generate:hover {\n",
              "        background-color: #434B5C;\n",
              "        box-shadow: 0px 1px 3px 1px rgba(0, 0, 0, 0.15);\n",
              "        filter: drop-shadow(0px 1px 2px rgba(0, 0, 0, 0.3));\n",
              "        fill: #FFFFFF;\n",
              "      }\n",
              "    </style>\n",
              "    <button class=\"colab-df-generate\" onclick=\"generateWithVariable('input')\"\n",
              "            title=\"Generate code using this dataframe.\"\n",
              "            style=\"display:none;\">\n",
              "\n",
              "  <svg xmlns=\"http://www.w3.org/2000/svg\" height=\"24px\"viewBox=\"0 0 24 24\"\n",
              "       width=\"24px\">\n",
              "    <path d=\"M7,19H8.4L18.45,9,17,7.55,7,17.6ZM5,21V16.75L18.45,3.32a2,2,0,0,1,2.83,0l1.4,1.43a1.91,1.91,0,0,1,.58,1.4,1.91,1.91,0,0,1-.58,1.4L9.25,21ZM18.45,9,17,7.55Zm-12,3A5.31,5.31,0,0,0,4.9,8.1,5.31,5.31,0,0,0,1,6.5,5.31,5.31,0,0,0,4.9,4.9,5.31,5.31,0,0,0,6.5,1,5.31,5.31,0,0,0,8.1,4.9,5.31,5.31,0,0,0,12,6.5,5.46,5.46,0,0,0,6.5,12Z\"/>\n",
              "  </svg>\n",
              "    </button>\n",
              "    <script>\n",
              "      (() => {\n",
              "      const buttonEl =\n",
              "        document.querySelector('#id_8f1d3785-3fdb-4816-8f65-5ffa694193e6 button.colab-df-generate');\n",
              "      buttonEl.style.display =\n",
              "        google.colab.kernel.accessAllowed ? 'block' : 'none';\n",
              "\n",
              "      buttonEl.onclick = () => {\n",
              "        google.colab.notebook.generateWithVariable('input');\n",
              "      }\n",
              "      })();\n",
              "    </script>\n",
              "  </div>\n",
              "\n",
              "    </div>\n",
              "  </div>\n"
            ]
          },
          "metadata": {},
          "execution_count": 30
        }
      ]
    },
    {
      "cell_type": "code",
      "source": [],
      "metadata": {
        "id": "U7LpjjQ1dFYS"
      },
      "id": "U7LpjjQ1dFYS",
      "execution_count": null,
      "outputs": []
    }
  ],
  "metadata": {
    "kernelspec": {
      "display_name": "Python 3 (ipykernel)",
      "language": "python",
      "name": "python3"
    },
    "language_info": {
      "codemirror_mode": {
        "name": "ipython",
        "version": 3
      },
      "file_extension": ".py",
      "mimetype": "text/x-python",
      "name": "python",
      "nbconvert_exporter": "python",
      "pygments_lexer": "ipython3",
      "version": "3.11.5"
    },
    "colab": {
      "provenance": []
    }
  },
  "nbformat": 4,
  "nbformat_minor": 5
}